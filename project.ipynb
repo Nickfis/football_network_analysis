{
 "cells": [
  {
   "cell_type": "code",
   "execution_count": 16,
   "metadata": {},
   "outputs": [],
   "source": [
    "# reading in all necessary libraries\n",
    "import networkx as nx\n",
    "import os\n",
    "import pandas as pd\n",
    "os.chdir('/home/Nickfis/Documents/Projects/football_network_analysis')\n",
    "import numpy as np\n",
    "%matplotlib inline"
   ]
  },
  {
   "cell_type": "markdown",
   "metadata": {},
   "source": [
    "## reading in data\n",
    "\n",
    "the dataframes that are loaded in here were derived earlier from the overall event data for the season\n",
    "plus qualifiers that explain each event more precisely. \n",
    "This means the possession as well as the xg_features data is based on multiple assumptions made by me.\n",
    "The possessions df gives each offensive possession in the season that ended in a shot. An offensive possession\n",
    "is just defined as a sequence of passes from only one team that ended in a shot.\n",
    "XG_features is basically a dataframe with about 16.000 rows of shots, with certain features that describe the\n",
    "shot more closely, in order to obtain a probability for that shot going in. In this project, we only need to \n",
    "look at the probability of the shot going in, since this will give us a measure of danger of that offensive\n",
    "possession. "
   ]
  },
  {
   "cell_type": "code",
   "execution_count": 2,
   "metadata": {},
   "outputs": [],
   "source": [
    "# event data: all events that occurred in every game of LaLiga over the season 2017/2018\n",
    "event = pd.read_csv('event2017.csv')\n",
    "# possession dataframes. All offensive possessions that ended in a shot\n",
    "possession = pd.read_csv('possession2017.csv')\n",
    "# expected goals \n",
    "xg_features = pd.read_csv('xg_features2017.csv')\n",
    "# team and playerspecific information\n",
    "teams = pd.read_csv('teams.csv')\n",
    "allplayers = pd.read_csv('player_frame.csv')\n"
   ]
  },
  {
   "cell_type": "code",
   "execution_count": 9,
   "metadata": {},
   "outputs": [
    {
     "name": "stderr",
     "output_type": "stream",
     "text": [
      "/home/Nickfis/anaconda3/lib/python3.6/site-packages/ipykernel_launcher.py:11: UserWarning: Boolean Series key will be reindexed to match DataFrame index.\n",
      "  # This is added back by InteractiveShellApp.init_path()\n"
     ]
    }
   ],
   "source": [
    "# possession shape needs to be a little bit preprocessed.\n",
    "# drop the duplicates\n",
    "possession = possession[~possession.duplicated(keep='first')]\n",
    "# leave out na's because not part of possession and not a player\n",
    "possession = possession[~possession['player_id'].isna()]\n",
    "# only look at shots and passes\n",
    "shotsandpass = [1,13,14,15,16]\n",
    "possession = possession[possession['event_type'].isin(shotsandpass)]\n",
    "possession.index = possession['possession']\n",
    "# deleting all possessions with fewer than 3 actions\n",
    "possession = possession[pd.DataFrame(possession['possession'].value_counts())['possession']>2]"
   ]
  },
  {
   "cell_type": "markdown",
   "metadata": {},
   "source": [
    "We will see that our y and x axis both range from 0 to 100. In reality though, the pitch is obviously not a square. Here I took a ratio, that should transform the y-coordinates in an adequate manner. "
   ]
  },
  {
   "cell_type": "code",
   "execution_count": 13,
   "metadata": {},
   "outputs": [],
   "source": [
    "# check for the y-coordinate\n",
    "possession['y'].describe()"
   ]
  },
  {
   "cell_type": "code",
   "execution_count": 8,
   "metadata": {},
   "outputs": [
    {
     "name": "stderr",
     "output_type": "stream",
     "text": [
      "/home/Nickfis/anaconda3/lib/python3.6/site-packages/ipykernel_launcher.py:5: UserWarning: Boolean Series key will be reindexed to match DataFrame index.\n",
      "  \"\"\"\n"
     ]
    }
   ],
   "source": [
    "ratio=105/69.5\n",
    "\n",
    "possession['y'] = possession['y']/ratio"
   ]
  },
  {
   "cell_type": "markdown",
   "metadata": {},
   "source": [
    "## Building Adjacency Matrices for each team\n"
   ]
  },
  {
   "cell_type": "code",
   "execution_count": 14,
   "metadata": {},
   "outputs": [
    {
     "name": "stdout",
     "output_type": "stream",
     "text": [
      "HELLO\n",
      "HELLO\n",
      "HELLO\n",
      "HELLO\n",
      "HELLO\n",
      "HELLO\n",
      "HELLO\n",
      "HELLO\n",
      "HELLO\n",
      "HELLO\n",
      "HELLO\n"
     ]
    }
   ],
   "source": [
    "#create adjacency matrix for each team\n",
    "for team in possession['team_id'].unique():\n",
    "    team_pos = possession[possession['team_id']==team]\n",
    "    # create adjacency matrix for that team\n",
    "    team_player = team_pos['player_id'].unique()\n",
    "    # player x player matrix\n",
    "    adj_matrix = pd.DataFrame(np.zeros((len(team_player),len(team_player))))\n",
    "    # name indices\n",
    "    adj_matrix.columns = team_player\n",
    "    adj_matrix.index = team_player\n",
    "    # loop through every possession for the team and add received / played passes for each player\n",
    "    for pos in team_pos['possession'].unique():\n",
    "        one_pos = team_pos[team_pos['possession']==pos]\n",
    "        #print(pos)\n",
    "        # now go back more and more in the dataframe till the beginning\n",
    "        # first pass\n",
    "        for k in range((one_pos.shape[0]-1),0,-1):\n",
    "            #print(k)\n",
    "            # player that passes the ball\n",
    "            # player that passes\n",
    "            i = one_pos.iloc[k]['player_id']\n",
    "            #print(i)\n",
    "            # player that receives the pass\n",
    "            j = one_pos.iloc[k-1]['player_id']\n",
    "            # filling up the values\n",
    "            adj_matrix.loc[i,j]+=1\n",
    "\n",
    "    ############################################ BUILDING POSITION DATAFRAME #########################################################\n",
    "    # in another dataframe for that team I want to have all the players and their median (mean?) position and their number of actions\n",
    "    # a df with 3 columns with the length of the players in the adjacency matrix, maybe even do a density of each player?\n",
    "    team_positions = pd.DataFrame(team_player)\n",
    "    team_positions.index = team_player\n",
    "    # add positions\n",
    "    team_positions['x'] = 0\n",
    "    team_positions['y'] = 0\n",
    "    # actions\n",
    "    team_positions['actions'] = 0\n",
    "\n",
    "    for i in team_player:\n",
    "        #player_pos = team_pos[team_pos['player_id']==i]\n",
    "        team_positions.loc[i,'x'] = team_pos[team_pos['player_id']==i]['x'].mean()\n",
    "        team_positions.loc[i,'y'] = team_pos[team_pos['player_id']==i]['y'].mean()\n",
    "        team_positions.loc[i, 'actions'] = len(team_pos[team_pos['player_id']==i]['possession'])\n",
    "\n",
    "\n",
    "    team_positions.to_csv('positions_'+str(team)+'.csv')\n",
    "    adj_matrix.to_csv('adj_matrix_'+str(team)+'.csv')"
   ]
  },
  {
   "cell_type": "code",
   "execution_count": 15,
   "metadata": {},
   "outputs": [
    {
     "data": {
      "text/plain": [
       "8"
      ]
     },
     "execution_count": 15,
     "metadata": {},
     "output_type": "execute_result"
    }
   ],
   "source": []
  },
  {
   "cell_type": "code",
   "execution_count": null,
   "metadata": {},
   "outputs": [],
   "source": []
  }
 ],
 "metadata": {
  "kernelspec": {
   "display_name": "Python 3",
   "language": "python",
   "name": "python3"
  },
  "language_info": {
   "codemirror_mode": {
    "name": "ipython",
    "version": 3
   },
   "file_extension": ".py",
   "mimetype": "text/x-python",
   "name": "python",
   "nbconvert_exporter": "python",
   "pygments_lexer": "ipython3",
   "version": "3.6.4"
  }
 },
 "nbformat": 4,
 "nbformat_minor": 2
}
