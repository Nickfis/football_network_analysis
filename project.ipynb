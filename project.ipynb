{
 "cells": [
  {
   "cell_type": "markdown",
   "metadata": {},
   "source": [
    "## Project Motivation and Idea\n",
    "Considering the enormous amount of money in todays football market, the building of a well-functioning roster with players interacting collaboratively together becomes an incredibly important task with high stakes. Therefore any insight into how a team performs together, which players are the pillars of the team and which players could be replaced for performance enhancement could be worth millions. \n",
    "\n",
    "Using network analysis on professional football teams adds something new and remarkable to sports analytics. While normal sports analytics is often about different metrics for evaluating players' performance, without considering the interaction between teammates network analysis might be able to actually extract patterns of play, show interaction between certain sets of players and give us an idea to how certain teams set up their offense. \n",
    "\n",
    "There have been different approaches using network analysis on football teams, however they often fall short.\n",
    "Generally, adjacency matrices are built from all possessions observed. This leads to the defensive and central midfielders almost always showing up as the most important players for each team. This might make sense, since they are often in the center of play, however this is not an interesting or trustworthy find if you claim that the central midfielder is the most important player in every team.\n",
    "In this project, I try to take a different approach by looking only at possessions that ended in a shot. Doing this we take care of two possible problems:\n",
    "\n",
    "i) We only look at possessions where the team actually looked to score. Short possessions in your own half are not considered vital to the overall game. Players that have the ball often in those possessions (defenders, central midfielders and even goalkeepers) will not show up as central, if they do not contribute to offensive play.\n",
    "\n",
    "ii) We can assign a value to each of the possessions using an expected Goals model. This gives us an idea of how big the chance was. This value can be used to assign each of the players a value according to their contribution. The main idea is here: if you create a lot of good chances, you are a good (offensive) player."
   ]
  },
  {
   "cell_type": "code",
   "execution_count": 1,
   "metadata": {},
   "outputs": [],
   "source": [
    "# reading in all necessary libraries\n",
    "import networkx as nx\n",
    "import os\n",
    "import pandas as pd\n",
    "os.chdir('/home/Nickfis/Documents/Projects/football_network_analysis')\n",
    "import numpy as np\n",
    "%matplotlib inline"
   ]
  },
  {
   "cell_type": "markdown",
   "metadata": {},
   "source": [
    "## Reading in data\n",
    "\n",
    "The dataframes that are loaded in here were derived earlier from the overall event data for the season\n",
    "plus qualifiers that explain each event more precisely. \n",
    "This means the possession as well as the xg_features data is based on multiple assumptions made by me.\n",
    "The possessions df gives each offensive possession in the season that ended in a shot. An offensive possession\n",
    "is just defined as a sequence of passes from only one team that ended in a shot.\n",
    "XG_features is basically a dataframe with about 16.000 rows of shots, with certain features that describe the\n",
    "shot more closely, in order to obtain a probability for that shot going in. In this project, we only need to \n",
    "look at the probability of the shot going in, since this will give us a measure of danger of that offensive\n",
    "possession. "
   ]
  },
  {
   "cell_type": "code",
   "execution_count": 2,
   "metadata": {},
   "outputs": [],
   "source": [
    "# event data: all events that occurred in every game of LaLiga over the season 2017/2018\n",
    "event = pd.read_csv('event2017.csv')\n",
    "# possession dataframes. All offensive possessions that ended in a shot\n",
    "possession = pd.read_csv('possession2017.csv')\n",
    "# expected goals \n",
    "xg_features = pd.read_csv('xg_features2017.csv')\n",
    "# team and playerspecific information\n",
    "teams = pd.read_csv('teams.csv')\n",
    "allplayers = pd.read_csv('player_frame.csv')\n"
   ]
  },
  {
   "cell_type": "code",
   "execution_count": 3,
   "metadata": {},
   "outputs": [
    {
     "name": "stderr",
     "output_type": "stream",
     "text": [
      "/home/Nickfis/anaconda3/lib/python3.6/site-packages/ipykernel_launcher.py:11: UserWarning: Boolean Series key will be reindexed to match DataFrame index.\n",
      "  # This is added back by InteractiveShellApp.init_path()\n"
     ]
    }
   ],
   "source": [
    "# possession shape needs to be a little bit preprocessed.\n",
    "# drop the duplicates\n",
    "possession = possession[~possession.duplicated(keep='first')]\n",
    "# leave out na's because not part of possession and not a player\n",
    "possession = possession[~possession['player_id'].isna()]\n",
    "# only look at shots and passes\n",
    "shotsandpass = [1,13,14,15,16]\n",
    "possession = possession[possession['event_type'].isin(shotsandpass)]\n",
    "possession.index = possession['possession']\n",
    "# deleting all possessions with fewer than 3 actions\n",
    "possession = possession[pd.DataFrame(possession['possession'].value_counts())['possession']>2]"
   ]
  },
  {
   "cell_type": "markdown",
   "metadata": {},
   "source": [
    "We will see that our y and x axis both range from 0 to 100. In reality though, the pitch is obviously not a square. Here I took a ratio, that should transform the y-coordinates in an adequate manner. "
   ]
  },
  {
   "cell_type": "code",
   "execution_count": 4,
   "metadata": {},
   "outputs": [
    {
     "data": {
      "text/plain": [
       "count    19778.000000\n",
       "mean        49.471489\n",
       "std         27.407908\n",
       "min          0.000000\n",
       "25%         27.300000\n",
       "50%         49.400000\n",
       "75%         71.500000\n",
       "max        100.000000\n",
       "Name: y, dtype: float64"
      ]
     },
     "execution_count": 4,
     "metadata": {},
     "output_type": "execute_result"
    }
   ],
   "source": [
    "# check for the y-coordinate\n",
    "possession['y'].describe()"
   ]
  },
  {
   "cell_type": "code",
   "execution_count": 5,
   "metadata": {},
   "outputs": [],
   "source": [
    "ratio=105/69.5\n",
    "\n",
    "possession['y'] = possession['y']/ratio"
   ]
  },
  {
   "cell_type": "markdown",
   "metadata": {},
   "source": [
    "## Building Adjacency Matrices according to amount of passes for each team\n",
    "\n",
    "In the following block of code the \"normal\" adjacency matrices are going to be built. For every outgoing and incoming pass for each player in the offensive possessions a one will be added to their cell in the matrix. \n",
    "What we will end up with is a matrix of all players involved in possessions that led to a shot with a cell describing the passes they played and another cell showing how many passes they received. \n",
    "\n",
    "Furthermore the loop is used to create another dataframe for each team, observing the average position of the players involved, in order to draw the offensive graph later on."
   ]
  },
  {
   "cell_type": "code",
   "execution_count": 6,
   "metadata": {},
   "outputs": [],
   "source": [
    "#create adjacency matrix for each team\n",
    "for team in possession['team_id'].unique():\n",
    "    team_pos = possession[possession['team_id']==team]\n",
    "    # create adjacency matrix for that team\n",
    "    team_player = team_pos['player_id'].unique()\n",
    "    # player x player matrix\n",
    "    adj_matrix = pd.DataFrame(np.zeros((len(team_player),len(team_player))))\n",
    "    # name indices\n",
    "    adj_matrix.columns = team_player\n",
    "    adj_matrix.index = team_player\n",
    "    # loop through every possession for the team and add received / played passes for each player\n",
    "    for pos in team_pos['possession'].unique():\n",
    "        one_pos = team_pos[team_pos['possession']==pos]\n",
    "        #print(pos)\n",
    "        # now go back more and more in the dataframe till the beginning\n",
    "        # first pass\n",
    "        for k in range((one_pos.shape[0]-1),0,-1):\n",
    "            #print(k)\n",
    "            # player that passes the ball\n",
    "            i = one_pos.iloc[k]['player_id']\n",
    "            # player that receives the pass\n",
    "            j = one_pos.iloc[k-1]['player_id']\n",
    "            # filling up the values\n",
    "            adj_matrix.loc[i,j]+=1\n",
    "\n",
    "    ############################################ BUILDING POSITION DATAFRAME #########################################################\n",
    "    # in another dataframe for that team I want to have all the players and their median (mean?) position and their number of actions\n",
    "    # a df with 3 columns with the length of the players in the adjacency matrix, maybe even do a density of each player?\n",
    "    team_positions = pd.DataFrame(team_player)\n",
    "    team_positions.index = team_player\n",
    "    # add positions\n",
    "    team_positions['x'] = 0\n",
    "    team_positions['y'] = 0\n",
    "    # actions\n",
    "    team_positions['actions'] = 0\n",
    "\n",
    "    for i in team_player:\n",
    "        #player_pos = team_pos[team_pos['player_id']==i]\n",
    "        team_positions.loc[i,'x'] = team_pos[team_pos['player_id']==i]['x'].mean()\n",
    "        team_positions.loc[i,'y'] = team_pos[team_pos['player_id']==i]['y'].mean()\n",
    "        team_positions.loc[i, 'actions'] = len(team_pos[team_pos['player_id']==i]['possession'])\n",
    "\n",
    "\n",
    "    team_positions.to_csv('positions_'+str(team)+'.csv')\n",
    "    adj_matrix.to_csv('adj_matrix_'+str(team)+'.csv')"
   ]
  },
  {
   "cell_type": "markdown",
   "metadata": {},
   "source": [
    "## Building Adjacency Matrices according to xG value for each team\n",
    "Although the previously created adjacency matrices already depict better what is going on in an offensive network, we want to be more precise. \n",
    "Using a previously created xG-Model with certain features that are supposed to help evaluate whether we are looking at a chance with a high or low probability of going in, we want to assign each possession a value.\n",
    "This value will be between 0 and 1, since it is basically the probability of the team scoring the shot.\n",
    "Amongst the features of the model are the distance, the type of shot (header/foot), whether it was a shot set up by a teammate, the pass that led to the shot and more. This model achieves overall over 80% area under the curve.\n",
    "After assigning the probability of each shot to its possession, the players are rewarded uniformly. Of course these weights can be changed (to exponential or according to a pass probability model or by x amount of other methods), but here I try to keep it simple for now. \n",
    "The general idea behind a uniform distribution of reward is: if a player is often involved with great chances, he  should show up as a great contributor, no matter of the position. There is a reason why certain defenders will initiate dangerous possessions more frequently than others. "
   ]
  },
  {
   "cell_type": "code",
   "execution_count": null,
   "metadata": {
    "scrolled": true
   },
   "outputs": [
    {
     "name": "stderr",
     "output_type": "stream",
     "text": [
      "/home/Nickfis/anaconda3/lib/python3.6/site-packages/IPython/core/interactiveshell.py:2963: FutureWarning: 'possession' is both an index level and a column label.\n",
      "Defaulting to column, but this will raise an ambiguity error in a future version\n",
      "  exec(code_obj, self.user_global_ns, self.user_ns)\n"
     ]
    }
   ],
   "source": [
    "## add the goal probability to the possession dataframe\n",
    "goal_prob = pd.merge(possession[['unique_event_id', 'possession']], xg_features[['unique_event_id', 'goal_prob']], how='right', on='unique_event_id')\n",
    "possession = pd.merge(possession, goal_prob.dropna(subset=['goal_prob'])[['possession', 'goal_prob']], on='possession', how='left')\n",
    "possession = possession.drop_duplicates(subset='unique_event_id')\n",
    "\n",
    "for team in possession['team_id'].unique():\n",
    "    #print(team)\n",
    "    team_pos = possession[possession['team_id']==team]\n",
    "    # create adjacency matrix for that team\n",
    "    team_player = team_pos['player_id'].unique()\n",
    "    # player x player matrix\n",
    "    adj_matrix = pd.DataFrame(np.zeros((len(team_player),len(team_player))))\n",
    "    # name indices\n",
    "    adj_matrix.columns = team_player\n",
    "    adj_matrix.index = team_player\n",
    "    # loop through every possession for the team and add received / played passes for each player\n",
    "    for pos in team_pos['possession'].unique():\n",
    "        one_pos = team_pos[team_pos['possession']==pos]\n",
    "        value = one_pos['goal_prob'].iloc[0]/one_pos.shape[0]\n",
    "        #print(pos)\n",
    "        # now go back more and more in the dataframe till the beginning\n",
    "        # first pass\n",
    "        for k in range((one_pos.shape[0]-1),0,-1):\n",
    "            #print(k)\n",
    "            # player that passes the ball\n",
    "            # player that passes\n",
    "            i = one_pos.iloc[k]['player_id']\n",
    "            #print(i)\n",
    "            # player that receives the pass\n",
    "            j = one_pos.iloc[k-1]['player_id']\n",
    "            # filling up the values\n",
    "            adj_matrix.loc[i,j]+=value\n",
    "\n",
    "    adj_matrix.to_csv('xg_adj_matrix_'+str(team)+'.csv')"
   ]
  },
  {
   "cell_type": "code",
   "execution_count": null,
   "metadata": {},
   "outputs": [],
   "source": []
  },
  {
   "cell_type": "code",
   "execution_count": null,
   "metadata": {},
   "outputs": [],
   "source": []
  },
  {
   "cell_type": "code",
   "execution_count": null,
   "metadata": {},
   "outputs": [],
   "source": []
  }
 ],
 "metadata": {
  "kernelspec": {
   "display_name": "Python 3",
   "language": "python",
   "name": "python3"
  },
  "language_info": {
   "codemirror_mode": {
    "name": "ipython",
    "version": 3
   },
   "file_extension": ".py",
   "mimetype": "text/x-python",
   "name": "python",
   "nbconvert_exporter": "python",
   "pygments_lexer": "ipython3",
   "version": "3.6.5"
  }
 },
 "nbformat": 4,
 "nbformat_minor": 2
}
